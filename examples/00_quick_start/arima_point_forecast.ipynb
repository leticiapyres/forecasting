{
 "cells": [
  {
   "cell_type": "markdown",
   "metadata": {},
   "source": [
    "<i>Copyright (c) Microsoft Corporation.</i>\n",
    "\n",
    "<i>Licensed under the MIT License.</i>"
   ]
  },
  {
   "cell_type": "markdown",
   "metadata": {},
   "source": [
    "# Arima: Autoregressive Integrated Moving Average\n",
    "\n",
    "This notebook provides an example of how to train an Arima model to generate point forecasts of product sales in retail. We will train an ARIMA based model on the Orange Juice dataset.\n",
    "\n",
    "An ARIMA, which stands for **A**uto**r**egressive **I**ntegrated **M**oving **A**verage, model can be created using the `statsmodels` library. In the next section, we perform the following steps:\n",
    "\n",
    "1. Define the model by calling `SARIMAX()` and passing in the model parameters: `p`, `d`, and `q` parameters, and `P`, `D`, and `Q` parameters\n",
    "\n",
    "2. The model is prepared on the training data by calling the `fit()` function.\n",
    "\n",
    "3. Predictions can be made by calling the `forecast()` function and specifying the number of steps (horizon) which to forecast. In an ARIMA model there are 3 parameters that are used to help model the major aspects of a times series: seasonality, trend, and noise. These parameters are:\n",
    "    - **p** is the parameter associated with the auto-regressive aspect of the model, which incorporates past values.\n",
    "    - **d** is the parameter associated with the integrated part of the model, which effects the amount of differencing to apply to a time series.\n",
    "    - **q** is the parameter associated with the moving average part of the model.,\n",
    "\n",
    "If our model has a seasonal component, we use a seasonal ARIMA model (SARIMA). In that case we have another set of parameters: `P`, `D`, and `Q` which describe the same associations as `p`, `d`, and `q`, but correspond with the seasonal components of the model.\n"
   ]
  },
  {
   "cell_type": "markdown",
   "metadata": {},
   "source": [
    "## Global Settings and Imports"
   ]
  },
  {
   "cell_type": "code",
   "execution_count": 1,
   "metadata": {},
   "outputs": [
    {
     "name": "stdout",
     "output_type": "stream",
     "text": [
      "System version: 3.6.10 |Anaconda, Inc.| (default, Jan  7 2020, 21:14:29) \n",
      "[GCC 7.3.0]\n"
     ]
    }
   ],
   "source": [
    "import os\n",
    "import sys\n",
    "import math\n",
    "import warnings\n",
    "import numpy as np\n",
    "import pandas as pd\n",
    "import scrapbook as sb\n",
    "\n",
    "from pmdarima.arima import auto_arima\n",
    "\n",
    "from fclib.common.utils import git_repo_path\n",
    "from fclib.evaluation.evaluation_utils import MAPE\n",
    "from fclib.dataset.ojdata import download_ojdata, split_train_test, complete_and_fill_df\n",
    "\n",
    "pd.options.display.float_format = \"{:,.2f}\".format\n",
    "np.set_printoptions(precision=2)\n",
    "warnings.filterwarnings(\"ignore\")\n",
    "\n",
    "print(\"System version: {}\".format(sys.version))"
   ]
  },
  {
   "cell_type": "markdown",
   "metadata": {},
   "source": [
    "## Parameters\n",
    "\n",
    "\n",
    "In what follows, we define global settings related to the model and feature engineering. LightGBM supports both classification models and regression models. In our case, we set the objective function to `mape` which stands for mean absolute percentage error (MAPE) since we will build a regression model to predict product sales and evaluate the accuracy of the model using MAPE.\n",
    "\n",
    "Generally, we can adjust the number of leaves (`num_leaves`), the minimum number of data in each leaf (`min_data_in_leaf`), maximum number of boosting rounds (`num_rounds`), the learning rate of trees (`learning_rate`) and `early_stopping_rounds` (to avoid overfitting) in the model to get better performance. Besides, we can also adjust other supported parameters to optimize the results. [In this link](https://github.com/Microsoft/LightGBM/blob/master/docs/Parameters.rst), a list of all the parameters is given. In addition, advice on how to tune these parameters can be found [in this url](https://github.com/Microsoft/LightGBM/blob/master/docs/Parameters-Tuning.rst).\n",
    "\n",
    "We will use historical weekly sales, date time information, and product information as input features to train the model. Prior sales are used as lag features and `lags` contains the lags where each number indicates the number of time steps (i.e., weeks) that we shift the data backwards to get the historical sales. We also use the average sales within a certain time window in the past as a moving average feature. `window_size` controls the size of the moving window. Apart from these parameters, we use `use_columns` and `categ_fea` to denote all other features that we leverage in the model and the categorical features, respectively.\n"
   ]
  },
  {
   "cell_type": "code",
   "execution_count": 2,
   "metadata": {},
   "outputs": [],
   "source": [
    "# Use False if you've already downloaded and split the data\n",
    "DOWNLOAD_SPLIT_DATA = True\n",
    "\n",
    "# Data directory\n",
    "DATA_DIR = os.path.join(git_repo_path(), \"ojdata\")\n",
    "\n",
    "# Forecasting settings\n",
    "N_SPLITS = 1\n",
    "HORIZON = 2\n",
    "GAP = 2\n",
    "FIRST_WEEK = 40\n",
    "LAST_WEEK = 138\n",
    "\n",
    "# Parameters of ARIMA model\n",
    "params = {\n",
    "    \"seasonal\": False,\n",
    "    \"start_p\": 0,\n",
    "    \"start_q\": 0,\n",
    "    \"max_p\": 10,\n",
    "    \"max_q\": 10,\n",
    "    \"m\": 52,\n",
    "}"
   ]
  },
  {
   "cell_type": "markdown",
   "metadata": {},
   "source": [
    "## Data Preparation\n",
    "\n",
    "We need to download the Orange Juice data and split it into training and test sets. By default, the following cell will download and spit the data. If you've already done so, you may skip this part by switching `DOWNLOAD_SPLIT_DATA` to `False`.\n",
    "\n",
    "We store the training data and test data using dataframes. The training data includes `train_df` and `aux_df` with `train_df` containing the historical sales up to week 135 (the time we make forecasts) and `aux_df` containing price/promotion information up until week 138. Here we assume that future price and promotion information up to a certain number of weeks ahead is predetermined and known. The test data is stored in `test_df` which contains the sales of each product in week 137 and 138. Assuming the current week is week 135, our goal is to forecast the sales in week 137 and 138 using the training data. There is a one-week gap between the current week and the first target week of forecasting as we want to leave time for planning inventory in practice.\n",
    "\n",
    "The setting of the forecast problem are defined in `fclib.dataset.ojdata.split_train_test` function. We can change this setting (e.g., modify the horizon of the forecast or the range of the historical data) by passing different parameters to this functions. Below, we split the data into `n_splits=1` splits, using the forecasting settings listed above in the **Parameters** section."
   ]
  },
  {
   "cell_type": "code",
   "execution_count": 3,
   "metadata": {},
   "outputs": [
    {
     "name": "stdout",
     "output_type": "stream",
     "text": [
      "Data already exists at the specified location.\n"
     ]
    }
   ],
   "source": [
    "if DOWNLOAD_SPLIT_DATA:\n",
    "    download_ojdata(DATA_DIR)\n",
    "    train_df_list, test_df_list, aux_df_list = split_train_test(\n",
    "        DATA_DIR,\n",
    "        n_splits=N_SPLITS,\n",
    "        horizon=HORIZON,\n",
    "        gap=GAP,\n",
    "        first_week=FIRST_WEEK,\n",
    "        last_week=LAST_WEEK,\n",
    "        write_csv=True,\n",
    "    )\n",
    "\n",
    "    # Split returns a list, extract the dataframes from the list\n",
    "    train_df = train_df_list[0].reset_index()\n",
    "    test_df = test_df_list[0].reset_index()\n",
    "    aux_df = aux_df_list[0].reset_index()"
   ]
  },
  {
   "cell_type": "markdown",
   "metadata": {},
   "source": [
    "Our data preparation for the training set will involve the following steps:\n",
    "\n",
    "- Filter the original dataset to include only that time period reserved for the training set\n",
    "- Scale the time series such that the values fall within the interval (0, 1)\n",
    "\n",
    "Note that the training set only contains the model features."
   ]
  },
  {
   "cell_type": "markdown",
   "metadata": {},
   "source": [
    "### Process training data"
   ]
  },
  {
   "cell_type": "code",
   "execution_count": 4,
   "metadata": {
    "lines_to_next_cell": 2
   },
   "outputs": [
    {
     "data": {
      "text/html": [
       "<div>\n",
       "<style scoped>\n",
       "    .dataframe tbody tr th:only-of-type {\n",
       "        vertical-align: middle;\n",
       "    }\n",
       "\n",
       "    .dataframe tbody tr th {\n",
       "        vertical-align: top;\n",
       "    }\n",
       "\n",
       "    .dataframe thead th {\n",
       "        text-align: right;\n",
       "    }\n",
       "</style>\n",
       "<table border=\"1\" class=\"dataframe\">\n",
       "  <thead>\n",
       "    <tr style=\"text-align: right;\">\n",
       "      <th></th>\n",
       "      <th>store</th>\n",
       "      <th>brand</th>\n",
       "      <th>week</th>\n",
       "      <th>move</th>\n",
       "    </tr>\n",
       "  </thead>\n",
       "  <tbody>\n",
       "    <tr>\n",
       "      <th>0</th>\n",
       "      <td>2</td>\n",
       "      <td>1</td>\n",
       "      <td>40</td>\n",
       "      <td>8256</td>\n",
       "    </tr>\n",
       "    <tr>\n",
       "      <th>1</th>\n",
       "      <td>2</td>\n",
       "      <td>1</td>\n",
       "      <td>46</td>\n",
       "      <td>6144</td>\n",
       "    </tr>\n",
       "    <tr>\n",
       "      <th>2</th>\n",
       "      <td>2</td>\n",
       "      <td>1</td>\n",
       "      <td>47</td>\n",
       "      <td>3840</td>\n",
       "    </tr>\n",
       "    <tr>\n",
       "      <th>3</th>\n",
       "      <td>2</td>\n",
       "      <td>1</td>\n",
       "      <td>48</td>\n",
       "      <td>8000</td>\n",
       "    </tr>\n",
       "    <tr>\n",
       "      <th>4</th>\n",
       "      <td>2</td>\n",
       "      <td>1</td>\n",
       "      <td>50</td>\n",
       "      <td>8896</td>\n",
       "    </tr>\n",
       "    <tr>\n",
       "      <th>5</th>\n",
       "      <td>2</td>\n",
       "      <td>1</td>\n",
       "      <td>51</td>\n",
       "      <td>7168</td>\n",
       "    </tr>\n",
       "    <tr>\n",
       "      <th>6</th>\n",
       "      <td>2</td>\n",
       "      <td>1</td>\n",
       "      <td>52</td>\n",
       "      <td>10880</td>\n",
       "    </tr>\n",
       "    <tr>\n",
       "      <th>7</th>\n",
       "      <td>2</td>\n",
       "      <td>1</td>\n",
       "      <td>53</td>\n",
       "      <td>7744</td>\n",
       "    </tr>\n",
       "    <tr>\n",
       "      <th>8</th>\n",
       "      <td>2</td>\n",
       "      <td>1</td>\n",
       "      <td>54</td>\n",
       "      <td>8512</td>\n",
       "    </tr>\n",
       "    <tr>\n",
       "      <th>9</th>\n",
       "      <td>2</td>\n",
       "      <td>1</td>\n",
       "      <td>57</td>\n",
       "      <td>5504</td>\n",
       "    </tr>\n",
       "  </tbody>\n",
       "</table>\n",
       "</div>"
      ],
      "text/plain": [
       "   store  brand  week   move\n",
       "0      2      1    40   8256\n",
       "1      2      1    46   6144\n",
       "2      2      1    47   3840\n",
       "3      2      1    48   8000\n",
       "4      2      1    50   8896\n",
       "5      2      1    51   7168\n",
       "6      2      1    52  10880\n",
       "7      2      1    53   7744\n",
       "8      2      1    54   8512\n",
       "9      2      1    57   5504"
      ]
     },
     "execution_count": 4,
     "metadata": {},
     "output_type": "execute_result"
    }
   ],
   "source": [
    "# Select only required columns\n",
    "train_df[\"move\"] = train_df[\"logmove\"].apply(lambda x: round(math.exp(x)))\n",
    "train_df = train_df[[\"store\", \"brand\", \"week\", \"move\"]]\n",
    "train_df.head(10)"
   ]
  },
  {
   "cell_type": "code",
   "execution_count": 5,
   "metadata": {
    "lines_to_next_cell": 2
   },
   "outputs": [
    {
     "data": {
      "text/html": [
       "<div>\n",
       "<style scoped>\n",
       "    .dataframe tbody tr th:only-of-type {\n",
       "        vertical-align: middle;\n",
       "    }\n",
       "\n",
       "    .dataframe tbody tr th {\n",
       "        vertical-align: top;\n",
       "    }\n",
       "\n",
       "    .dataframe thead th {\n",
       "        text-align: right;\n",
       "    }\n",
       "</style>\n",
       "<table border=\"1\" class=\"dataframe\">\n",
       "  <thead>\n",
       "    <tr style=\"text-align: right;\">\n",
       "      <th></th>\n",
       "      <th>store</th>\n",
       "      <th>brand</th>\n",
       "      <th>week</th>\n",
       "      <th>move</th>\n",
       "    </tr>\n",
       "  </thead>\n",
       "  <tbody>\n",
       "    <tr>\n",
       "      <th>0</th>\n",
       "      <td>2</td>\n",
       "      <td>1</td>\n",
       "      <td>40</td>\n",
       "      <td>8,256.00</td>\n",
       "    </tr>\n",
       "    <tr>\n",
       "      <th>1</th>\n",
       "      <td>2</td>\n",
       "      <td>1</td>\n",
       "      <td>41</td>\n",
       "      <td>8,256.00</td>\n",
       "    </tr>\n",
       "    <tr>\n",
       "      <th>2</th>\n",
       "      <td>2</td>\n",
       "      <td>1</td>\n",
       "      <td>42</td>\n",
       "      <td>8,256.00</td>\n",
       "    </tr>\n",
       "    <tr>\n",
       "      <th>3</th>\n",
       "      <td>2</td>\n",
       "      <td>1</td>\n",
       "      <td>43</td>\n",
       "      <td>8,256.00</td>\n",
       "    </tr>\n",
       "    <tr>\n",
       "      <th>4</th>\n",
       "      <td>2</td>\n",
       "      <td>1</td>\n",
       "      <td>44</td>\n",
       "      <td>8,256.00</td>\n",
       "    </tr>\n",
       "    <tr>\n",
       "      <th>5</th>\n",
       "      <td>2</td>\n",
       "      <td>1</td>\n",
       "      <td>45</td>\n",
       "      <td>8,256.00</td>\n",
       "    </tr>\n",
       "    <tr>\n",
       "      <th>6</th>\n",
       "      <td>2</td>\n",
       "      <td>1</td>\n",
       "      <td>46</td>\n",
       "      <td>6,144.00</td>\n",
       "    </tr>\n",
       "    <tr>\n",
       "      <th>7</th>\n",
       "      <td>2</td>\n",
       "      <td>1</td>\n",
       "      <td>47</td>\n",
       "      <td>3,840.00</td>\n",
       "    </tr>\n",
       "    <tr>\n",
       "      <th>8</th>\n",
       "      <td>2</td>\n",
       "      <td>1</td>\n",
       "      <td>48</td>\n",
       "      <td>8,000.00</td>\n",
       "    </tr>\n",
       "    <tr>\n",
       "      <th>9</th>\n",
       "      <td>2</td>\n",
       "      <td>1</td>\n",
       "      <td>49</td>\n",
       "      <td>8,000.00</td>\n",
       "    </tr>\n",
       "  </tbody>\n",
       "</table>\n",
       "</div>"
      ],
      "text/plain": [
       "   store  brand  week     move\n",
       "0      2      1    40 8,256.00\n",
       "1      2      1    41 8,256.00\n",
       "2      2      1    42 8,256.00\n",
       "3      2      1    43 8,256.00\n",
       "4      2      1    44 8,256.00\n",
       "5      2      1    45 8,256.00\n",
       "6      2      1    46 6,144.00\n",
       "7      2      1    47 3,840.00\n",
       "8      2      1    48 8,000.00\n",
       "9      2      1    49 8,000.00"
      ]
     },
     "execution_count": 5,
     "metadata": {},
     "output_type": "execute_result"
    }
   ],
   "source": [
    "# Create a dataframe to hold all necessary data\n",
    "store_list = train_df[\"store\"].unique()\n",
    "brand_list = train_df[\"brand\"].unique()\n",
    "train_week_list = range(FIRST_WEEK, LAST_WEEK + 1)\n",
    "\n",
    "train_filled = complete_and_fill_df(train_df, stores=store_list, brands=brand_list, weeks=train_week_list)\n",
    "\n",
    "train_filled.head(10)"
   ]
  },
  {
   "cell_type": "markdown",
   "metadata": {},
   "source": [
    "### Process test data"
   ]
  },
  {
   "cell_type": "code",
   "execution_count": 6,
   "metadata": {},
   "outputs": [
    {
     "data": {
      "text/html": [
       "<div>\n",
       "<style scoped>\n",
       "    .dataframe tbody tr th:only-of-type {\n",
       "        vertical-align: middle;\n",
       "    }\n",
       "\n",
       "    .dataframe tbody tr th {\n",
       "        vertical-align: top;\n",
       "    }\n",
       "\n",
       "    .dataframe thead th {\n",
       "        text-align: right;\n",
       "    }\n",
       "</style>\n",
       "<table border=\"1\" class=\"dataframe\">\n",
       "  <thead>\n",
       "    <tr style=\"text-align: right;\">\n",
       "      <th></th>\n",
       "      <th>store</th>\n",
       "      <th>brand</th>\n",
       "      <th>week</th>\n",
       "      <th>actuals</th>\n",
       "    </tr>\n",
       "  </thead>\n",
       "  <tbody>\n",
       "    <tr>\n",
       "      <th>0</th>\n",
       "      <td>2</td>\n",
       "      <td>1</td>\n",
       "      <td>137</td>\n",
       "      <td>9792</td>\n",
       "    </tr>\n",
       "    <tr>\n",
       "      <th>1</th>\n",
       "      <td>2</td>\n",
       "      <td>1</td>\n",
       "      <td>138</td>\n",
       "      <td>16960</td>\n",
       "    </tr>\n",
       "    <tr>\n",
       "      <th>2</th>\n",
       "      <td>2</td>\n",
       "      <td>2</td>\n",
       "      <td>137</td>\n",
       "      <td>6240</td>\n",
       "    </tr>\n",
       "    <tr>\n",
       "      <th>3</th>\n",
       "      <td>2</td>\n",
       "      <td>2</td>\n",
       "      <td>138</td>\n",
       "      <td>14784</td>\n",
       "    </tr>\n",
       "    <tr>\n",
       "      <th>4</th>\n",
       "      <td>2</td>\n",
       "      <td>3</td>\n",
       "      <td>137</td>\n",
       "      <td>1920</td>\n",
       "    </tr>\n",
       "    <tr>\n",
       "      <th>5</th>\n",
       "      <td>2</td>\n",
       "      <td>3</td>\n",
       "      <td>138</td>\n",
       "      <td>1408</td>\n",
       "    </tr>\n",
       "    <tr>\n",
       "      <th>6</th>\n",
       "      <td>2</td>\n",
       "      <td>4</td>\n",
       "      <td>137</td>\n",
       "      <td>1984</td>\n",
       "    </tr>\n",
       "    <tr>\n",
       "      <th>7</th>\n",
       "      <td>2</td>\n",
       "      <td>4</td>\n",
       "      <td>138</td>\n",
       "      <td>10944</td>\n",
       "    </tr>\n",
       "    <tr>\n",
       "      <th>8</th>\n",
       "      <td>2</td>\n",
       "      <td>5</td>\n",
       "      <td>137</td>\n",
       "      <td>19008</td>\n",
       "    </tr>\n",
       "    <tr>\n",
       "      <th>9</th>\n",
       "      <td>2</td>\n",
       "      <td>5</td>\n",
       "      <td>138</td>\n",
       "      <td>3904</td>\n",
       "    </tr>\n",
       "  </tbody>\n",
       "</table>\n",
       "</div>"
      ],
      "text/plain": [
       "   store  brand  week  actuals\n",
       "0      2      1   137     9792\n",
       "1      2      1   138    16960\n",
       "2      2      2   137     6240\n",
       "3      2      2   138    14784\n",
       "4      2      3   137     1920\n",
       "5      2      3   138     1408\n",
       "6      2      4   137     1984\n",
       "7      2      4   138    10944\n",
       "8      2      5   137    19008\n",
       "9      2      5   138     3904"
      ]
     },
     "execution_count": 6,
     "metadata": {},
     "output_type": "execute_result"
    }
   ],
   "source": [
    "# Evaluate prediction accuracy\n",
    "test_df[\"actuals\"] = test_df[\"logmove\"].apply(lambda x: round(math.exp(x)))\n",
    "test_df = test_df[[\"store\", \"brand\", \"week\", \"actuals\"]]\n",
    "\n",
    "test_week_list = range(LAST_WEEK - HORIZON + 1, LAST_WEEK + 1)\n",
    "test_filled = complete_and_fill_df(test_df, stores=store_list, brands=brand_list, weeks=test_week_list)\n",
    "\n",
    "test_filled.head(10)"
   ]
  },
  {
   "cell_type": "markdown",
   "metadata": {},
   "source": [
    "## Model training\n",
    "\n",
    "We next train an ARIMA model."
   ]
  },
  {
   "cell_type": "code",
   "execution_count": 7,
   "metadata": {},
   "outputs": [
    {
     "data": {
      "text/html": [
       "<div>\n",
       "<style scoped>\n",
       "    .dataframe tbody tr th:only-of-type {\n",
       "        vertical-align: middle;\n",
       "    }\n",
       "\n",
       "    .dataframe tbody tr th {\n",
       "        vertical-align: top;\n",
       "    }\n",
       "\n",
       "    .dataframe thead th {\n",
       "        text-align: right;\n",
       "    }\n",
       "</style>\n",
       "<table border=\"1\" class=\"dataframe\">\n",
       "  <thead>\n",
       "    <tr style=\"text-align: right;\">\n",
       "      <th></th>\n",
       "      <th>store</th>\n",
       "      <th>brand</th>\n",
       "      <th>week</th>\n",
       "      <th>move</th>\n",
       "    </tr>\n",
       "  </thead>\n",
       "  <tbody>\n",
       "    <tr>\n",
       "      <th>87219</th>\n",
       "      <td>132</td>\n",
       "      <td>2</td>\n",
       "      <td>40</td>\n",
       "      <td>6,624.00</td>\n",
       "    </tr>\n",
       "    <tr>\n",
       "      <th>87220</th>\n",
       "      <td>132</td>\n",
       "      <td>2</td>\n",
       "      <td>41</td>\n",
       "      <td>7,008.00</td>\n",
       "    </tr>\n",
       "    <tr>\n",
       "      <th>87221</th>\n",
       "      <td>132</td>\n",
       "      <td>2</td>\n",
       "      <td>42</td>\n",
       "      <td>7,008.00</td>\n",
       "    </tr>\n",
       "    <tr>\n",
       "      <th>87222</th>\n",
       "      <td>132</td>\n",
       "      <td>2</td>\n",
       "      <td>43</td>\n",
       "      <td>6,144.00</td>\n",
       "    </tr>\n",
       "    <tr>\n",
       "      <th>87223</th>\n",
       "      <td>132</td>\n",
       "      <td>2</td>\n",
       "      <td>44</td>\n",
       "      <td>5,856.00</td>\n",
       "    </tr>\n",
       "    <tr>\n",
       "      <th>87224</th>\n",
       "      <td>132</td>\n",
       "      <td>2</td>\n",
       "      <td>45</td>\n",
       "      <td>6,432.00</td>\n",
       "    </tr>\n",
       "    <tr>\n",
       "      <th>87225</th>\n",
       "      <td>132</td>\n",
       "      <td>2</td>\n",
       "      <td>46</td>\n",
       "      <td>5,952.00</td>\n",
       "    </tr>\n",
       "    <tr>\n",
       "      <th>87226</th>\n",
       "      <td>132</td>\n",
       "      <td>2</td>\n",
       "      <td>47</td>\n",
       "      <td>6,432.00</td>\n",
       "    </tr>\n",
       "    <tr>\n",
       "      <th>87227</th>\n",
       "      <td>132</td>\n",
       "      <td>2</td>\n",
       "      <td>48</td>\n",
       "      <td>4,128.00</td>\n",
       "    </tr>\n",
       "    <tr>\n",
       "      <th>87228</th>\n",
       "      <td>132</td>\n",
       "      <td>2</td>\n",
       "      <td>49</td>\n",
       "      <td>7,104.00</td>\n",
       "    </tr>\n",
       "    <tr>\n",
       "      <th>87229</th>\n",
       "      <td>132</td>\n",
       "      <td>2</td>\n",
       "      <td>50</td>\n",
       "      <td>10,368.00</td>\n",
       "    </tr>\n",
       "    <tr>\n",
       "      <th>87230</th>\n",
       "      <td>132</td>\n",
       "      <td>2</td>\n",
       "      <td>51</td>\n",
       "      <td>7,680.00</td>\n",
       "    </tr>\n",
       "    <tr>\n",
       "      <th>87231</th>\n",
       "      <td>132</td>\n",
       "      <td>2</td>\n",
       "      <td>52</td>\n",
       "      <td>6,240.00</td>\n",
       "    </tr>\n",
       "    <tr>\n",
       "      <th>87232</th>\n",
       "      <td>132</td>\n",
       "      <td>2</td>\n",
       "      <td>53</td>\n",
       "      <td>6,240.00</td>\n",
       "    </tr>\n",
       "    <tr>\n",
       "      <th>87233</th>\n",
       "      <td>132</td>\n",
       "      <td>2</td>\n",
       "      <td>54</td>\n",
       "      <td>6,624.00</td>\n",
       "    </tr>\n",
       "    <tr>\n",
       "      <th>87234</th>\n",
       "      <td>132</td>\n",
       "      <td>2</td>\n",
       "      <td>55</td>\n",
       "      <td>6,048.00</td>\n",
       "    </tr>\n",
       "    <tr>\n",
       "      <th>87235</th>\n",
       "      <td>132</td>\n",
       "      <td>2</td>\n",
       "      <td>56</td>\n",
       "      <td>6,048.00</td>\n",
       "    </tr>\n",
       "    <tr>\n",
       "      <th>87236</th>\n",
       "      <td>132</td>\n",
       "      <td>2</td>\n",
       "      <td>57</td>\n",
       "      <td>6,048.00</td>\n",
       "    </tr>\n",
       "    <tr>\n",
       "      <th>87237</th>\n",
       "      <td>132</td>\n",
       "      <td>2</td>\n",
       "      <td>58</td>\n",
       "      <td>10,080.00</td>\n",
       "    </tr>\n",
       "    <tr>\n",
       "      <th>87238</th>\n",
       "      <td>132</td>\n",
       "      <td>2</td>\n",
       "      <td>59</td>\n",
       "      <td>4,512.00</td>\n",
       "    </tr>\n",
       "  </tbody>\n",
       "</table>\n",
       "</div>"
      ],
      "text/plain": [
       "       store  brand  week      move\n",
       "87219    132      2    40  6,624.00\n",
       "87220    132      2    41  7,008.00\n",
       "87221    132      2    42  7,008.00\n",
       "87222    132      2    43  6,144.00\n",
       "87223    132      2    44  5,856.00\n",
       "87224    132      2    45  6,432.00\n",
       "87225    132      2    46  5,952.00\n",
       "87226    132      2    47  6,432.00\n",
       "87227    132      2    48  4,128.00\n",
       "87228    132      2    49  7,104.00\n",
       "87229    132      2    50 10,368.00\n",
       "87230    132      2    51  7,680.00\n",
       "87231    132      2    52  6,240.00\n",
       "87232    132      2    53  6,240.00\n",
       "87233    132      2    54  6,624.00\n",
       "87234    132      2    55  6,048.00\n",
       "87235    132      2    56  6,048.00\n",
       "87236    132      2    57  6,048.00\n",
       "87237    132      2    58 10,080.00\n",
       "87238    132      2    59  4,512.00"
      ]
     },
     "execution_count": 7,
     "metadata": {},
     "output_type": "execute_result"
    }
   ],
   "source": [
    "STORE = 132\n",
    "BRAND = 2\n",
    "train_ts = train_filled.loc[(train_filled.store == STORE) & (train_filled.brand == BRAND)]\n",
    "train_ts.head(20)"
   ]
  },
  {
   "cell_type": "code",
   "execution_count": 8,
   "metadata": {},
   "outputs": [],
   "source": [
    "train_ts = np.array(train_ts[\"move\"])"
   ]
  },
  {
   "cell_type": "code",
   "execution_count": 9,
   "metadata": {},
   "outputs": [],
   "source": [
    "model = auto_arima(\n",
    "    train_ts,\n",
    "    seasonal=params[\"seasonal\"],\n",
    "    start_p=params[\"start_p\"],\n",
    "    start_q=params[\"max_q\"],\n",
    "    max_p=params[\"start_q\"],\n",
    "    max_q=params[\"max_q\"],\n",
    ")"
   ]
  },
  {
   "cell_type": "code",
   "execution_count": 10,
   "metadata": {},
   "outputs": [
    {
     "data": {
      "text/plain": [
       "ARIMA(callback=None, disp=0, maxiter=None, method=None, order=(0, 1, 1),\n",
       "   out_of_sample_size=0, scoring='mse', scoring_args={},\n",
       "   seasonal_order=None, solver='lbfgs', start_params=None,\n",
       "   suppress_warnings=False, transparams=True, trend=None,\n",
       "   with_intercept=True)"
      ]
     },
     "execution_count": 10,
     "metadata": {},
     "output_type": "execute_result"
    }
   ],
   "source": [
    "model.fit(train_ts)"
   ]
  },
  {
   "cell_type": "code",
   "execution_count": 11,
   "metadata": {},
   "outputs": [
    {
     "data": {
      "text/html": [
       "<table class=\"simpletable\">\n",
       "<caption>ARIMA Model Results</caption>\n",
       "<tr>\n",
       "  <th>Dep. Variable:</th>        <td>D.y</td>       <th>  No. Observations:  </th>    <td>98</td>   \n",
       "</tr>\n",
       "<tr>\n",
       "  <th>Model:</th>          <td>ARIMA(0, 1, 1)</td>  <th>  Log Likelihood     </th> <td>-913.764</td>\n",
       "</tr>\n",
       "<tr>\n",
       "  <th>Method:</th>             <td>css-mle</td>     <th>  S.D. of innovations</th> <td>2648.474</td>\n",
       "</tr>\n",
       "<tr>\n",
       "  <th>Date:</th>          <td>Wed, 26 Feb 2020</td> <th>  AIC                </th> <td>1833.528</td>\n",
       "</tr>\n",
       "<tr>\n",
       "  <th>Time:</th>              <td>10:46:57</td>     <th>  BIC                </th> <td>1841.283</td>\n",
       "</tr>\n",
       "<tr>\n",
       "  <th>Sample:</th>                <td>1</td>        <th>  HQIC               </th> <td>1836.665</td>\n",
       "</tr>\n",
       "<tr>\n",
       "  <th></th>                       <td> </td>        <th>                     </th>     <td> </td>   \n",
       "</tr>\n",
       "</table>\n",
       "<table class=\"simpletable\">\n",
       "<tr>\n",
       "      <td></td>         <th>coef</th>     <th>std err</th>      <th>z</th>      <th>P>|z|</th>  <th>[0.025</th>    <th>0.975]</th>  \n",
       "</tr>\n",
       "<tr>\n",
       "  <th>const</th>     <td>   30.9574</td> <td>    9.314</td> <td>    3.324</td> <td> 0.001</td> <td>   12.701</td> <td>   49.213</td>\n",
       "</tr>\n",
       "<tr>\n",
       "  <th>ma.L1.D.y</th> <td>   -1.0000</td> <td>    0.034</td> <td>  -29.233</td> <td> 0.000</td> <td>   -1.067</td> <td>   -0.933</td>\n",
       "</tr>\n",
       "</table>\n",
       "<table class=\"simpletable\">\n",
       "<caption>Roots</caption>\n",
       "<tr>\n",
       "    <td></td>   <th>            Real</th>  <th>         Imaginary</th> <th>         Modulus</th>  <th>        Frequency</th>\n",
       "</tr>\n",
       "<tr>\n",
       "  <th>MA.1</th> <td>           1.0000</td> <td>          +0.0000j</td> <td>           1.0000</td> <td>           0.0000</td>\n",
       "</tr>\n",
       "</table>"
      ],
      "text/plain": [
       "<class 'statsmodels.iolib.summary.Summary'>\n",
       "\"\"\"\n",
       "                             ARIMA Model Results                              \n",
       "==============================================================================\n",
       "Dep. Variable:                    D.y   No. Observations:                   98\n",
       "Model:                 ARIMA(0, 1, 1)   Log Likelihood                -913.764\n",
       "Method:                       css-mle   S.D. of innovations           2648.474\n",
       "Date:                Wed, 26 Feb 2020   AIC                           1833.528\n",
       "Time:                        10:46:57   BIC                           1841.283\n",
       "Sample:                             1   HQIC                          1836.665\n",
       "                                                                              \n",
       "==============================================================================\n",
       "                 coef    std err          z      P>|z|      [0.025      0.975]\n",
       "------------------------------------------------------------------------------\n",
       "const         30.9574      9.314      3.324      0.001      12.701      49.213\n",
       "ma.L1.D.y     -1.0000      0.034    -29.233      0.000      -1.067      -0.933\n",
       "                                    Roots                                    \n",
       "=============================================================================\n",
       "                  Real          Imaginary           Modulus         Frequency\n",
       "-----------------------------------------------------------------------------\n",
       "MA.1            1.0000           +0.0000j            1.0000            0.0000\n",
       "-----------------------------------------------------------------------------\n",
       "\"\"\""
      ]
     },
     "execution_count": 11,
     "metadata": {},
     "output_type": "execute_result"
    }
   ],
   "source": [
    "model.summary()"
   ]
  },
  {
   "cell_type": "code",
   "execution_count": 12,
   "metadata": {},
   "outputs": [
    {
     "data": {
      "text/plain": [
       "array([9428.69, 9459.65])"
      ]
     },
     "execution_count": 12,
     "metadata": {},
     "output_type": "execute_result"
    }
   ],
   "source": [
    "preds = model.predict(n_periods=GAP + HORIZON)\n",
    "preds = preds[GAP:]\n",
    "preds"
   ]
  },
  {
   "cell_type": "code",
   "execution_count": 13,
   "metadata": {},
   "outputs": [
    {
     "data": {
      "text/html": [
       "<div>\n",
       "<style scoped>\n",
       "    .dataframe tbody tr th:only-of-type {\n",
       "        vertical-align: middle;\n",
       "    }\n",
       "\n",
       "    .dataframe tbody tr th {\n",
       "        vertical-align: top;\n",
       "    }\n",
       "\n",
       "    .dataframe thead th {\n",
       "        text-align: right;\n",
       "    }\n",
       "</style>\n",
       "<table border=\"1\" class=\"dataframe\">\n",
       "  <thead>\n",
       "    <tr style=\"text-align: right;\">\n",
       "      <th></th>\n",
       "      <th>predictions</th>\n",
       "      <th>store</th>\n",
       "      <th>brand</th>\n",
       "      <th>week</th>\n",
       "    </tr>\n",
       "  </thead>\n",
       "  <tbody>\n",
       "    <tr>\n",
       "      <th>0</th>\n",
       "      <td>9,428.69</td>\n",
       "      <td>132</td>\n",
       "      <td>2</td>\n",
       "      <td>137</td>\n",
       "    </tr>\n",
       "    <tr>\n",
       "      <th>1</th>\n",
       "      <td>9,459.65</td>\n",
       "      <td>132</td>\n",
       "      <td>2</td>\n",
       "      <td>138</td>\n",
       "    </tr>\n",
       "  </tbody>\n",
       "</table>\n",
       "</div>"
      ],
      "text/plain": [
       "   predictions  store  brand  week\n",
       "0     9,428.69    132      2   137\n",
       "1     9,459.65    132      2   138"
      ]
     },
     "execution_count": 13,
     "metadata": {},
     "output_type": "execute_result"
    }
   ],
   "source": [
    "pred_df = pd.DataFrame({\"predictions\": preds, \"store\": STORE, \"brand\": BRAND, \"week\": test_week_list})\n",
    "\n",
    "pred_df"
   ]
  },
  {
   "cell_type": "markdown",
   "metadata": {},
   "source": [
    "## Model evaluation"
   ]
  },
  {
   "cell_type": "code",
   "execution_count": 14,
   "metadata": {},
   "outputs": [
    {
     "data": {
      "text/html": [
       "<div>\n",
       "<style scoped>\n",
       "    .dataframe tbody tr th:only-of-type {\n",
       "        vertical-align: middle;\n",
       "    }\n",
       "\n",
       "    .dataframe tbody tr th {\n",
       "        vertical-align: top;\n",
       "    }\n",
       "\n",
       "    .dataframe thead th {\n",
       "        text-align: right;\n",
       "    }\n",
       "</style>\n",
       "<table border=\"1\" class=\"dataframe\">\n",
       "  <thead>\n",
       "    <tr style=\"text-align: right;\">\n",
       "      <th></th>\n",
       "      <th>predictions</th>\n",
       "      <th>store</th>\n",
       "      <th>brand</th>\n",
       "      <th>week</th>\n",
       "      <th>actuals</th>\n",
       "    </tr>\n",
       "  </thead>\n",
       "  <tbody>\n",
       "    <tr>\n",
       "      <th>0</th>\n",
       "      <td>9,428.69</td>\n",
       "      <td>132</td>\n",
       "      <td>2</td>\n",
       "      <td>137</td>\n",
       "      <td>8064</td>\n",
       "    </tr>\n",
       "    <tr>\n",
       "      <th>1</th>\n",
       "      <td>9,459.65</td>\n",
       "      <td>132</td>\n",
       "      <td>2</td>\n",
       "      <td>138</td>\n",
       "      <td>20352</td>\n",
       "    </tr>\n",
       "  </tbody>\n",
       "</table>\n",
       "</div>"
      ],
      "text/plain": [
       "   predictions  store  brand  week  actuals\n",
       "0     9,428.69    132      2   137     8064\n",
       "1     9,459.65    132      2   138    20352"
      ]
     },
     "execution_count": 14,
     "metadata": {},
     "output_type": "execute_result"
    }
   ],
   "source": [
    "# Combine actual units and predictions\n",
    "test_ts = test_filled.loc[(test_filled.store == STORE) & (test_filled.brand == BRAND)]\n",
    "\n",
    "combined = pd.merge(pred_df, test_ts, on=[\"store\", \"brand\", \"week\"], how=\"left\")\n",
    "combined"
   ]
  },
  {
   "cell_type": "code",
   "execution_count": 15,
   "metadata": {},
   "outputs": [
    {
     "data": {
      "application/scrapbook.scrap.json+json": {
       "data": 64.80961239832934,
       "encoder": "json",
       "name": "MAPE",
       "version": 1
      }
     },
     "metadata": {
      "scrapbook": {
       "data": true,
       "display": false,
       "name": "MAPE"
      }
     },
     "output_type": "display_data"
    },
    {
     "name": "stdout",
     "output_type": "stream",
     "text": [
      "MAPE of the forecasts is 64.80961239832934 %\n"
     ]
    }
   ],
   "source": [
    "metric_value = MAPE(combined[\"actuals\"], combined[\"predictions\"]) * 100\n",
    "sb.glue(\"MAPE\", metric_value)\n",
    "print(f\"MAPE of the forecasts is {metric_value} %\")"
   ]
  },
  {
   "cell_type": "markdown",
   "metadata": {},
   "source": [
    "## Model training for all stores and brands"
   ]
  },
  {
   "cell_type": "code",
   "execution_count": null,
   "metadata": {
    "lines_to_next_cell": 2
   },
   "outputs": [
    {
     "name": "stdout",
     "output_type": "stream",
     "text": [
      "Training ARIMA model...\n",
      "Forecasting for store: 2, brand: 1\n",
      "Forecasting for store: 2, brand: 2\n",
      "Forecasting for store: 2, brand: 3\n",
      "Forecasting for store: 2, brand: 4\n"
     ]
    }
   ],
   "source": [
    "import itertools\n",
    "\n",
    "short_store_list = store_list[0:5]\n",
    "result_df = pd.DataFrame(None, columns=[\"predictions\", \"store\", \"brand\", \"week\", \"actuals\"])\n",
    "\n",
    "print(\"Training ARIMA model...\")\n",
    "for store, brand in itertools.product(short_store_list, brand_list):\n",
    "    print(f\"Forecasting for store: {store}, brand: {brand}\")\n",
    "\n",
    "    train_ts = train_filled.loc[(train_filled.store == store) & (train_filled.brand == brand)]\n",
    "    train_ts = np.array(train_ts[\"move\"])\n",
    "\n",
    "    model = auto_arima(\n",
    "        train_ts,\n",
    "        seasonal=params[\"seasonal\"],\n",
    "        start_p=params[\"start_p\"],\n",
    "        start_q=params[\"max_q\"],\n",
    "        max_p=params[\"start_q\"],\n",
    "        max_q=params[\"max_q\"],\n",
    "    )\n",
    "    model.fit(train_ts)\n",
    "    preds = model.predict(n_periods=GAP + HORIZON)\n",
    "    preds = preds[GAP:]\n",
    "    pred_df = pd.DataFrame({\"predictions\": preds, \"store\": store, \"brand\": brand, \"week\": test_week_list})\n",
    "    test_ts = test_filled.loc[(test_filled.store == store) & (test_filled.brand == brand)]\n",
    "\n",
    "    combined_df = pd.merge(pred_df, test_ts, on=[\"store\", \"brand\", \"week\"], how=\"left\")\n",
    "    # print(\"----------\")\n",
    "    # print(combined_df)\n",
    "\n",
    "    result_df = result_df.append(combined_df, ignore_index=True)"
   ]
  },
  {
   "cell_type": "code",
   "execution_count": 32,
   "metadata": {},
   "outputs": [
    {
     "data": {
      "application/scrapbook.scrap.json+json": {
       "data": 42.35732188121102,
       "encoder": "json",
       "name": "MAPE",
       "version": 1
      }
     },
     "metadata": {
      "scrapbook": {
       "data": true,
       "display": false,
       "name": "MAPE"
      }
     },
     "output_type": "display_data"
    },
    {
     "name": "stdout",
     "output_type": "stream",
     "text": [
      "MAPE of the forecasts is 42.35732188121102 %\n"
     ]
    }
   ],
   "source": [
    "metric_value = MAPE(combined[\"actuals\"], combined[\"predictions\"]) * 100\n",
    "sb.glue(\"MAPE\", metric_value)\n",
    "print(f\"MAPE of the forecasts is {metric_value} %\")"
   ]
  }
 ],
 "metadata": {
  "kernelspec": {
   "display_name": "forecasting_env",
   "language": "python",
   "name": "forecasting_env"
  },
  "language_info": {
   "codemirror_mode": {
    "name": "ipython",
    "version": 3
   },
   "file_extension": ".py",
   "mimetype": "text/x-python",
   "name": "python",
   "nbconvert_exporter": "python",
   "pygments_lexer": "ipython3",
   "version": "3.6.10"
  }
 },
 "nbformat": 4,
 "nbformat_minor": 4
}
